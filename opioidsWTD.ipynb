{
 "cells": [
  {
   "cell_type": "markdown",
   "metadata": {},
   "source": [
    "## Waiting Time Distributions for Opioids"
   ]
  },
  {
   "cell_type": "markdown",
   "metadata": {},
   "source": [
    "<em>The intent of this analysis is to explore whether parametric (reverse) Waiting Time Distribution (WTD) methods can improve opioid pharmacoepidemiology methods by more accurately and explicitly representing actual patient-level opioid exposure, in the United States.</em>"
   ]
  },
  {
   "cell_type": "markdown",
   "metadata": {},
   "source": [
    "By Nabarun Dasgupta (nab@unc.edu)"
   ]
  },
  {
   "cell_type": "markdown",
   "metadata": {},
   "source": [
    "## Contents\n",
    "<ol>\n",
    "    <li>Background</li>\n",
    "    <li>Glossary</li>\n",
    "    <li>Equations</li>\n",
    "    <li>Hypotheses</li>\n",
    "    <li>Reflections on the Scientific Process</li>\n"
   ]
  },
  {
   "cell_type": "markdown",
   "metadata": {},
   "source": [
    "### 1 | Background\n",
    "The foundational papers (with PDFs) are in [this bibliography](https://www.evernote.com/l/AhF42dfsTmtJLY3O55AY9EdE3eilGszKjfg).<br>\n",
    "<br>\n",
    "The originators are Henrik Støvring, Anton Pottegård, and Jesper Hallas at Aarhus University in Denmark. The WTD methods arose out of neccesity; major Danish health datasets do not have indication, dosage, or refill information, making it impossible to observe when someone has stopped taking a drug (e.g., defining the end of the exposed period, or right censoring). These models take advatange of <b>time between prescription refills</b> to estimate how long people actually consume the medicine. Turns out that these distributions can be modeled with considerable (statistical) efficiency using parametric equations, meaning that people are fairly consistent <em>when</em> they go get refills (including people at the extremes, which too is predictable). So, we can build a distribution from the observed refill data (vertical bars in the histograms for warfarin below), and draw a line to follow the tops of the bars. The line is powerful because it allows us to model the use of opioids with a level of control we have never had before.<br>\n",
    "<br>\n",
    "<img src=\"model fits Fig 1.png\">\n",
    "\n",
    "<em>But before we go any further, let us remind ourselves that all models are wrong (AMAW) because they are models, and not reality.</em>\n",
    "<br>\n",
    "<br>\n",
    "Where WTD methods potentially gets really interesting for opioids:\n",
    "1. This method may mean that we no longer have to assume that patients took the opioids as prescribed. \n",
    "2. We may be able to provide a handy way to see how our models change if we assume that some percent (say, 20%) of patients don't finish their opioids from a surgery, and use them again months (years?) later for a sprained ankle.\n",
    "3. We know that the \"days' supply\" variable can be unreliable (more on that to come from another study in our group). Using PMP data, we may be able externally \"validate\" WTD methods and/or have cleaner days supply variables under explicit assumptions.\n",
    "4. As US states pass legislation on opioid dispensing, including limits on days' supply (e.g., to 3 days post-surgery), we may have calendar time-varying effects in raw PMP and claims and EHR data that make it difficult to compare or pool with earlier data. So, having a parametric model for length of time exposed could extend the life of existing datasets.<br>\n",
    "<br>"
   ]
  },
  {
   "cell_type": "markdown",
   "metadata": {},
   "source": [
    "### 2 | Glossary\n",
    "\n",
    "<ol>\n",
    "    <li>Waiting time distribution (WTD)</li>\n",
    "    <li>Reverse WTD</li>\n",
    "    <li>Inter-arrival distance (IAD)</li>\n",
    "    <li>Backward recurrence density (BRD)</li>\n",
    "    \n",
    "\n"
   ]
  },
  {
   "cell_type": "markdown",
   "metadata": {},
   "source": [
    "### 3  |          Equations\n",
    "\n",
    "The likelihood contribution for a single observed reverse waiting time, r, is written as\n",
    "<br>\n",
    "\\begin{equation*}\n",
    "L(r;\\eta,\\theta) = n \\cdot g(r;\\theta) + \\frac{1 - \\eta}{\\delta}\n",
    "\\end{equation*}\n",
    "<br>\n",
    "where:\n",
    "<p>$\\eta$ is the fraction of prevelant users among the observed uses in the observation window</p>\n",
    "<p>$\\delta$ is the width of the observation window (in days) $t_0 - t_{-1}$</p>\n",
    "<p>$g(t;\\theta)$ is the backward recurrence density (BRD)</p>\n",
    "\n",
    "<br>\n",
    "<br>\n",
    "\n",
    "The BRD is related to the IAD - the time from one redemption to the subsequent redemption for prevelant patients:\n",
    "<br>\n",
    "\n",
    "\\begin{equation*}\n",
    "g(r) = \\frac{1-F(r)}{M}\n",
    "\\end{equation*}\n",
    "\n",
    "<br>\n",
    "<br>\n",
    "<p> The log-normal BRD takes this form\n",
    "\\begin{equation*}\n",
    "g(r) = \\frac{1}{M} \\phi \\left(\\frac{log\\,r - \\mu}{\\sigma}\\right)\n",
    "\\end{equation*}\n",
    "    <br>\n",
    "where $\\phi$ is the cumulative standard normal distribution function and M \n",
    "is the inter-arrival mean (M) is specified as:\n",
    "    <br>\n",
    "\\begin{equation*}\n",
    "M = exp\\left(\\mu + \\frac{\\sigma^2}{2}\\right)\n",
    "\\end{equation*}\n",
    "    <br>\n",
    "    <br>\n",
    "    \n",
    "\\begin{equation*}\n",
    "logit\\,\\eta = \\alpha_0 + \\alpha_1x_1 + \\alpha_2x_2 + \\cdots\n",
    "\\end{equation*}"
   ]
  },
  {
   "cell_type": "markdown",
   "metadata": {},
   "source": [
    "### 4 | Hypotheses"
   ]
  },
  {
   "cell_type": "code",
   "execution_count": null,
   "metadata": {},
   "outputs": [],
   "source": []
  }
 ],
 "metadata": {
  "kernelspec": {
   "display_name": "Python 3",
   "language": "python",
   "name": "python3"
  },
  "language_info": {
   "codemirror_mode": {
    "name": "ipython",
    "version": 3
   },
   "file_extension": ".py",
   "mimetype": "text/x-python",
   "name": "python",
   "nbconvert_exporter": "python",
   "pygments_lexer": "ipython3",
   "version": "3.7.3"
  }
 },
 "nbformat": 4,
 "nbformat_minor": 2
}
